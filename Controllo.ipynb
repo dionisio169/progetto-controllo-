{
  "metadata": {
    "kernelspec": {
      "name": "python",
      "display_name": "Python (Pyodide)",
      "language": "python"
    },
    "language_info": {
      "codemirror_mode": {
        "name": "python",
        "version": 3
      },
      "file_extension": ".py",
      "mimetype": "text/x-python",
      "name": "python",
      "nbconvert_exporter": "python",
      "pygments_lexer": "ipython3",
      "version": "3.8"
    }
  },
  "nbformat_minor": 5,
  "nbformat": 4,
  "cells": [
    {
      "id": "1259aaf1-8ae3-4ba6-9803-aab335126c96",
      "cell_type": "markdown",
      "source": "The can sends and receives packets, with this code we simulate the motor driver and a real-time response. \nBelow is the explanation of the code . \nJupyter fails to import the can library, try it on python directly",
      "metadata": {}
    },
    {
      "id": "5d2c4965-6ff2-4749-80dc-5f2e10750c6c",
      "cell_type": "code",
      "source": "",
      "metadata": {
        "trusted": true
      },
      "outputs": [],
      "execution_count": null
    },
    {
      "id": "f917f35e-e3f8-48f0-931a-fa29d80b9be5",
      "cell_type": "code",
      "source": "import can\nimport time\nimport threading\n\n# === Variabili simulazione ===\ngear = 0\nmode = 0\nthrottle = 0\nmax_speed = 2000\ninput_current = 100\nfault_flags = 0x0000  # tutti OK\n\n# === Funzione di simulazione driver ===\ndef ezoutboard_driver(bus):\n    global gear, mode, throttle, max_speed, input_current, fault_flags\n\n    while True:\n        msg = bus.recv(timeout=1)\n        if msg:\n            # === GESTIONE MESSAGGI ===\n\n            # 0x1A530106 – Imposta modalità CAN e marcia\n            if msg.arbitration_id == 0x1A530106:\n                mode = msg.data[0]\n                gear = msg.data[1]\n                print(f\"[DRIVER] Modalità CAN: {mode}, Marcia: {gear}\")\n\n            # 0x1A530100 – Imposta acceleratore (PWM)\n            elif msg.arbitration_id == 0x1A530100:\n                throttle = (msg.data[0] << 8) | msg.data[1]\n                print(f\"[DRIVER] Throttle (PWM): {throttle}/65535\")\n\n            # 0x1A530101 – Parametri: max speed, current\n            elif msg.arbitration_id == 0x1A530101:\n                max_speed = (msg.data[0] << 8) | msg.data[1]\n                input_current = (msg.data[2] << 8) | msg.data[3]\n                print(f\"[DRIVER] Max speed: {max_speed} RPM, Input current: {input_current * 0.1:.1f} A\")\n\n            # === RISPOSTA: stato operativo (0x1A530601) ===\n            speed_rpm = int(throttle / 65535 * max_speed)\n            voltage = 4800  # 480.0 V\n            current = int(input_current * throttle / 65535)\n\n            status_msg = can.Message(\n                arbitration_id=0x1A530601,\n                data=[\n                    (speed_rpm >> 8) & 0xFF, speed_rpm & 0xFF,\n                    0x07, 0xD0,  # gear ratio fittizio (2000)\n                    (voltage >> 8) & 0xFF, voltage & 0xFF,\n                    (current >> 8) & 0xFF, current & 0xFF\n                ],\n                is_extended_id=True\n            )\n            bus.send(status_msg)\n\n            # === RISPOSTA: stato fault (0x1A530600) ===\n            fault_msg = can.Message(\n                arbitration_id=0x1A530600,\n                data=[\n                    (fault_flags >> 8) & 0xFF, fault_flags & 0xFF,\n                    0x00,  # gear status, brake, cruise, ecc.\n                    0x00,  # reverse, TCS, ecc.\n                    int(throttle / 65535 * 200),  # throttle % (0–200)\n                    0x00,  # reserved\n                    60,    # controller temp\n                    55     # motor temp\n                ],\n                is_extended_id=True\n            )\n            bus.send(fault_msg)\n\n            time.sleep(0.2)\n\n\n# === Simulazione invio comandi ===\ndef controller_interface(bus):\n    while True:\n        print(\"\\n[CONTROLLER] Inserisci comando:\")\n        print(\"1 - Imposta modalità CAN + Marcia\")\n        print(\"2 - Imposta Throttle (PWM)\")\n        print(\"3 - Imposta parametri (Velocità max / Corrente max)\")\n        print(\"4 - Esci\")\n        choice = input(\"> \")\n\n        if choice == \"1\":\n            mode = int(input(\"Modalità (0=Display, 1=CAN): \"))\n            gear = int(input(\"Marcia (0=VOID, 1=Eco, 2=Normal, 3=Sport): \"))\n            msg = can.Message(arbitration_id=0x1A530106, data=[mode, gear] + [0]*6, is_extended_id=True)\n            bus.send(msg)\n\n        elif choice == \"2\":\n            throttle_pct = float(input(\"Throttle % (0–100): \"))\n            val = int(throttle_pct / 100 * 65535)\n            msg = can.Message(arbitration_id=0x1A530100,\n                              data=[(val >> 8) & 0xFF, val & 0xFF] + [0]*6, is_extended_id=True)\n            bus.send(msg)\n\n        elif choice == \"3\":\n            rpm = int(input(\"Velocità max (RPM): \"))\n            current = int(float(input(\"Corrente max (A): \")) * 10)\n            msg = can.Message(\n                arbitration_id=0x1A530101,\n                data=[\n                    (rpm >> 8) & 0xFF, rpm & 0xFF,\n                    (current >> 8) & 0xFF, current & 0xFF,\n                    4, 0x00,   # pole pairs = 4\n                    0x00, 0x00\n                ],\n                is_extended_id=True\n            )\n            bus.send(msg)\n\n        elif choice == \"4\":\n            break\n\n        time.sleep(0.2)\n\n\n# === Main ===\nwith can.Bus(interface='virtual') as bus:\n    driver_thread = threading.Thread(target=ezoutboard_driver, args=(bus,))\n    driver_thread.start()\n\n    controller_interface(bus)\n\n    driver_thread.join()\n",
      "metadata": {
        "trusted": true
      },
      "outputs": [
        {
          "ename": "<class 'ModuleNotFoundError'>",
          "evalue": "No module named 'can'",
          "traceback": [
            "\u001b[0;31m---------------------------------------------------------------------------\u001b[0m",
            "\u001b[0;31mModuleNotFoundError\u001b[0m                       Traceback (most recent call last)",
            "Cell \u001b[0;32mIn[1], line 1\u001b[0m\n\u001b[0;32m----> 1\u001b[0m \u001b[38;5;28;01mimport\u001b[39;00m \u001b[38;5;21;01mcan\u001b[39;00m\n\u001b[1;32m      2\u001b[0m \u001b[38;5;28;01mimport\u001b[39;00m \u001b[38;5;21;01mtime\u001b[39;00m\n\u001b[1;32m      3\u001b[0m \u001b[38;5;28;01mimport\u001b[39;00m \u001b[38;5;21;01mthreading\u001b[39;00m\n",
            "\u001b[0;31mModuleNotFoundError\u001b[0m: No module named 'can'"
          ],
          "output_type": "error"
        }
      ],
      "execution_count": 1
    },
    {
      "id": "b6ffd7f2-2d34-4d21-a5f3-7304922c734f",
      "cell_type": "markdown",
      "source": "We're simulating an electric motor controlled via CAN bus.\nWe're doing it using Python, to test and learn — without needing any real hardware.\n\n",
      "metadata": {}
    },
    {
      "id": "30627d5d-1c41-45f4-ab63-bda957f85815",
      "cell_type": "code",
      "source": "import can\nimport time\nimport threading\n",
      "metadata": {
        "trusted": true
      },
      "outputs": [],
      "execution_count": null
    },
    {
      "id": "761f0974-07b7-419e-adac-7e1315381675",
      "cell_type": "raw",
      "source": "import can → Loads the python-can library, which lets us send and receive CAN messages.\n\nimport time → Lets us pause the program, like waiting 1 second between actions.\n\nimport threading → Lets us run multiple things at once, like the motor and the controller, without blocking each other.\n",
      "metadata": {}
    },
    {
      "id": "9149e4f7-c67d-4a16-996b-c6ef4a25dd4e",
      "cell_type": "code",
      "source": "gear = 0\nmode = 0\nthrottle = 0\nmax_speed = 2000\ninput_current = 100\nfault_flags = 0x0000  # all OK\n",
      "metadata": {
        "trusted": true
      },
      "outputs": [],
      "execution_count": null
    },
    {
      "id": "cee46493-1e72-419e-8b1f-c09bc2727ef6",
      "cell_type": "markdown",
      "source": "These are the variables that represent the motor’s state.\n\ngear → current gear (e.g. 1 = Eco, 2 = Balanced, 3 = Sport)\n\nmode → control mode (0 = Manual/Display, 1 = CAN controlled)\n\nthrottle → how much you're pressing the gas (range 0–65535)\n\nmax_speed → max RPM the motor can reach\n\ninput_current → max current the motor can draw (in 0.1 A units)\n\nfault_flags → error flags (0x0000 means no errors)\n\n",
      "metadata": {}
    },
    {
      "id": "07cd85e6-a16a-402c-8dce-cc219f13ad04",
      "cell_type": "code",
      "source": "def ezoutboard_driver(bus):\n",
      "metadata": {
        "trusted": true
      },
      "outputs": [],
      "execution_count": null
    },
    {
      "id": "f2446012-9015-420d-a3b8-c9082a90ba4e",
      "cell_type": "markdown",
      "source": "This function simulates the motor. It listens for CAN messages, processes them, and sends back motor status.\n\nbus is the virtual CAN channel used for communication.\n\n",
      "metadata": {}
    },
    {
      "id": "df1f9b21-01d1-4158-b685-f172f1a7bf3d",
      "cell_type": "code",
      "source": "global gear, mode, throttle, max_speed, input_current, fault_flags",
      "metadata": {
        "trusted": true
      },
      "outputs": [],
      "execution_count": null
    },
    {
      "id": "f475970a-07c0-484b-b776-c2c52e364582",
      "cell_type": "markdown",
      "source": "This line says: “Hey, I’m going to use the variables defined outside of this function.”",
      "metadata": {}
    },
    {
      "id": "c8c11504-b009-4d6d-a410-f8e229a5d7e7",
      "cell_type": "code",
      "source": "        if msg.arbitration_id == 0x1A530106:\n            mode = msg.data[0]\n            gear = msg.data[1]\n            print(f\"[DRIVER] CAN Mode: {mode}, Gear: {gear}\")\n",
      "metadata": {
        "trusted": true
      },
      "outputs": [],
      "execution_count": null
    },
    {
      "id": "023bf760-2f5a-4035-b067-80a00decda7b",
      "cell_type": "markdown",
      "source": "This message tells the motor:\n\nhow it should be controlled (manual or CAN)\n\nwhich gear to use\n\nmsg.data[0] → control mode (0 = Display, 1 = CAN)\n\nmsg.data[1] → gear (1 = Eco, 2 = Balanced, 3 = Sport)",
      "metadata": {}
    },
    {
      "id": "f820a098-d8fd-471f-b5ef-191de5b2d7ee",
      "cell_type": "code",
      "source": "        elif msg.arbitration_id == 0x1A530100:\n            throttle = (msg.data[0] << 8) | msg.data[1]\n            print(f\"[DRIVER] Throttle (PWM): {throttle}/65535\")\n",
      "metadata": {
        "trusted": true
      },
      "outputs": [],
      "execution_count": null
    },
    {
      "id": "d315cee8-774f-495b-aae0-82b09ef5e343",
      "cell_type": "markdown",
      "source": "This sets the throttle value, using two bytes.\n\nThrottle range is 0–65535 (16-bit number).\n\n32768 = about 50% throttle",
      "metadata": {}
    },
    {
      "id": "c08e2e68-e17a-4172-88a3-5a454e3834cd",
      "cell_type": "code",
      "source": "        elif msg.arbitration_id == 0x1A530101:\n            max_speed = (msg.data[0] << 8) | msg.data[1]\n            input_current = (msg.data[2] << 8) | msg.data[3]\n            print(f\"[DRIVER] Max speed: {max_speed} RPM, Input current: {input_current * 0.1:.1f} A\")\n",
      "metadata": {
        "trusted": true
      },
      "outputs": [],
      "execution_count": null
    },
    {
      "id": "cb2569e1-9f4e-4013-b1df-c2ab32e1c12b",
      "cell_type": "markdown",
      "source": "The controller sends a message to update:\n\nMax speed (RPM)\n\nMax current (as tenths of an amp — 100 = 10.0 A)",
      "metadata": {}
    },
    {
      "id": "438b96f0-d3e2-4c4e-a0ba-f83a96ac5375",
      "cell_type": "code",
      "source": "        speed_rpm = int(throttle / 65535 * max_speed)\n        voltage = 4800  # 480.0 V\n        current = int(input_current * throttle / 65535)\n",
      "metadata": {
        "trusted": true
      },
      "outputs": [],
      "execution_count": null
    },
    {
      "id": "892a7048-ce8e-498c-b3aa-d40a19f0563c",
      "cell_type": "markdown",
      "source": "Calculate motor state and send back status.\nspeed_rpm → motor RPM based on throttle\n\nvoltage → fixed simulated battery voltage (you can make it dynamic)\n\ncurrent → current draw, proportional to throttle",
      "metadata": {}
    },
    {
      "id": "d1624a80-6293-4689-8b66-b3fa13cdcae8",
      "cell_type": "code",
      "source": "        status_msg = can.Message(\n            arbitration_id=0x1A530601,\n            data=[\n                (speed_rpm >> 8) & 0xFF, speed_rpm & 0xFF,\n                0x07, 0xD0,\n                (voltage >> 8) & 0xFF, voltage & 0xFF,\n                (current >> 8) & 0xFF, current & 0xFF\n            ],\n            is_extended_id=True\n        )\n        bus.send(status_msg)\n",
      "metadata": {
        "trusted": true
      },
      "outputs": [],
      "execution_count": null
    },
    {
      "id": "1ca2560f-a72e-4f1f-8314-771e66f37fb5",
      "cell_type": "markdown",
      "source": "Create status message (ID 0x1A530601)\nThis sends a status update from the motor, including:\n\nBytes 0–1: RPM (2 bytes)\n\nBytes 2–3: gear ratio (fake value of 2000)\n\nBytes 4–5: battery voltage\n\nBytes 6–7: motor current\n\nAll values are split into high and low bytes.",
      "metadata": {}
    },
    {
      "id": "b640db66-75a7-4dc9-a132-2a6023106108",
      "cell_type": "code",
      "source": "        fault_msg = can.Message(\n            arbitration_id=0x1A530600,\n            data=[\n                (fault_flags >> 8) & 0xFF, fault_flags & 0xFF,\n                0x00, 0x00,\n                int(throttle / 65535 * 200),\n                0x00,\n                60,  # controller temp\n                55   # motor temp\n            ],\n            is_extended_id=True\n        )\n        bus.send(fault_msg)\n",
      "metadata": {
        "trusted": true
      },
      "outputs": [],
      "execution_count": null
    },
    {
      "id": "b2ad915c-6d4b-49a4-85e0-362858a06d89",
      "cell_type": "markdown",
      "source": "Send fault status (ID 0x1A530600)\nThis sends another message with:\n\nFault flags (errors — 0 means no errors)\n\nThrottle level as %\n\nTemperatures for controller and motor",
      "metadata": {}
    },
    {
      "id": "74079879-d0e4-48cd-86cf-93709d0243c0",
      "cell_type": "code",
      "source": "",
      "metadata": {
        "trusted": true
      },
      "outputs": [],
      "execution_count": null
    },
    {
      "id": "6563fe85-2f47-4030-b39d-28c510bc81d7",
      "cell_type": "code",
      "source": "",
      "metadata": {
        "trusted": true
      },
      "outputs": [],
      "execution_count": null
    }
  ]
}